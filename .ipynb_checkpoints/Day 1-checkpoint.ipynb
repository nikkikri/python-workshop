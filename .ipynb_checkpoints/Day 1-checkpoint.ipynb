{
 "cells": [
  {
   "cell_type": "code",
   "execution_count": null,
   "metadata": {},
   "outputs": [],
   "source": [
    "#Headings\n",
    "#Python\n",
    "##C-Lang\n",
    "###java\n",
    "####Csharp"
   ]
  },
  {
   "cell_type": "markdown",
   "metadata": {},
   "source": [
    "# Both Bold And italic\n",
    "***HOW ARE YOU\n",
    "# How to handle Images\n",
    "## Follow Two Ways\n",
    "**offline**\n",
    "<ing src=\"images.png\">\n",
    "**On-Line**"
   ]
  },
  {
   "cell_type": "markdown",
   "metadata": {},
   "source": [
    "# Both Bold And Italic\n",
    "***How Are You\n",
    "# How to Handle Images\n",
    "## Follow Two Ways\n",
    "**offline**\n",
    "<img src=\"images.jpg\">\n"
   ]
  },
  {
   "cell_type": "markdown",
   "metadata": {},
   "source": [
    "# Bullet Points\n",
    "*Languages\n",
    "   - cLang\n",
    "   + Python\n",
    "   * Java\n",
    "  *Webpages\n",
    "   + Html\n",
    "   - Css\n",
    "   - js\n",
    "  *Documentation\n",
    "   + ms word\n",
    "   - markdown\n",
    "   + Technical"
   ]
  },
  {
   "cell_type": "markdown",
   "metadata": {},
   "source": [
    "# Backtrick\n",
    "Welcome to 'Pythonworkshop'\n",
    "# Block Quotes\n",
    "> Welcome\n",
    "> Python\n"
   ]
  },
  {
   "cell_type": "markdown",
   "metadata": {},
   "source": [
    "# Link \n",
    "[PaceCollege](https://pace.ac.in)"
   ]
  },
  {
   "cell_type": "markdown",
   "metadata": {},
   "source": [
    "# Python programming\n",
    "# Introduction to Python\n",
    "# History of Python\n",
    "# Features of Python\n",
    "# Keywords or Reserved words in Python\n",
    "# Operators in Python\n"
   ]
  },
  {
   "cell_type": "markdown",
   "metadata": {},
   "source": [
    "# Introduction to Python\n",
    "\n",
    "#### In Python We have 5 different Keys\n",
    "     + HighLevel Language\n",
    "     + Object oriented Programming(oops0\n",
    "     + Interupted\n",
    "     + DynamicProgramming\n",
    "     + Multilevel Programming\n",
    "     \n",
    "     \n",
    "     \n",
    "     \n",
    "# History of Python\n",
    "\n",
    "\n",
    "\n",
    "## Monty 'python' fly circus\n",
    "\n",
    "+ In 1989 started implementation of python with version 0.9\n",
    "+ In 1991 Implemented 0.9 version\n",
    "+ In 1994 Implemented 1.0 version with features of lambda,map,filter,reduce\n",
    "+ In 2000 Implemented 2.0 version with features of datastructures Like List,Tuple,Dictionary,Sets..etc\n",
    "+ In 2008 Republised 3.0 version with features of large no of libraries,garbagecollection And Fastworking"
   ]
  },
  {
   "cell_type": "markdown",
   "metadata": {},
   "source": [
    "# Features of Python\n",
    "+ Easy to Learn & Easy to Write\n",
    "+ crossplateform\n",
    "+ Scalable\n",
    "+ Portable\n"
   ]
  },
  {
   "cell_type": "code",
   "execution_count": null,
   "metadata": {},
   "outputs": [],
   "source": [
    "a=10\n",
    "b=20\n",
    "a+b"
   ]
  },
  {
   "cell_type": "code",
   "execution_count": null,
   "metadata": {},
   "outputs": [],
   "source": [
    "a=\"hello\"\n",
    "type(a)"
   ]
  },
  {
   "cell_type": "code",
   "execution_count": null,
   "metadata": {},
   "outputs": [],
   "source": [
    "Comparing versions\n",
    "First version and second version print statement is\n",
    "print a + b\n",
    "by using input method\n",
    "raw_input()\n",
    "in 3rd version\n",
    "print(a+b)\n",
    "input()"
   ]
  },
  {
   "cell_type": "code",
   "execution_count": null,
   "metadata": {},
   "outputs": [],
   "source": [
    "for var in range(10) In python\n",
    "(% for i in range(10) %) in html"
   ]
  },
  {
   "cell_type": "code",
   "execution_count": null,
   "metadata": {},
   "outputs": [],
   "source": [
    "# Keywords or Reserved words in python\n",
    "import keyword\n",
    "dir(keyword)\n",
    "keyword.kwlist"
   ]
  },
  {
   "cell_type": "code",
   "execution_count": null,
   "metadata": {},
   "outputs": [],
   "source": [
    "in generators yield keyword\n",
    "in iterators "
   ]
  },
  {
   "cell_type": "code",
   "execution_count": null,
   "metadata": {},
   "outputs": [],
   "source": [
    "help()\n"
   ]
  },
  {
   "cell_type": "markdown",
   "metadata": {},
   "source": [
    "# operators \n",
    "+ Arthematic Operator (+,-,*,/,%,**,//)\n",
    "+ Relational or Comparision Operator(>,<,<=,>=,==,!=)\n",
    "+ Assignment Operator (+=,-=,*=,/=,**=,//=)\n",
    "+ Logical Operator (and ,or, not)\n",
    "+ Bitwise Operator (&,|,^,>>,<<)\n",
    "+ Membership Operator (in, not in)\n",
    "+ Identity Operator (is,is not)"
   ]
  },
  {
   "cell_type": "code",
   "execution_count": 3,
   "metadata": {},
   "outputs": [
    {
     "name": "stdout",
     "output_type": "stream",
     "text": [
      "30\n",
      "-10\n",
      "200\n",
      "0.5\n",
      "10\n",
      "100000000000000000000\n",
      "100000000000000000000\n",
      "0\n"
     ]
    }
   ],
   "source": [
    "a=10\n",
    "b=20\n",
    "print(a+b)\n",
    "print(a-b)\n",
    "print(a*b)\n",
    "print(a/b)\n",
    "print(a%b)\n",
    "print(a**b)\n",
    "print(pow(10,20))\n",
    "print(a//b)"
   ]
  },
  {
   "cell_type": "code",
   "execution_count": 4,
   "metadata": {},
   "outputs": [
    {
     "name": "stdout",
     "output_type": "stream",
     "text": [
      "True\n",
      "False\n",
      "False\n",
      "True\n"
     ]
    }
   ],
   "source": [
    "#  Relational Operators\n",
    "x=100\n",
    "y=20\n",
    "print(x>y)\n",
    "print(x<y)\n",
    "print(x==y)\n",
    "print(x!=y)"
   ]
  },
  {
   "cell_type": "code",
   "execution_count": 5,
   "metadata": {},
   "outputs": [
    {
     "data": {
      "text/plain": [
       "10"
      ]
     },
     "execution_count": 5,
     "metadata": {},
     "output_type": "execute_result"
    }
   ],
   "source": [
    "# Assignment Operators\n",
    "p=10\n",
    "p"
   ]
  },
  {
   "cell_type": "code",
   "execution_count": 6,
   "metadata": {},
   "outputs": [
    {
     "name": "stdout",
     "output_type": "stream",
     "text": [
      "False\n",
      "False\n",
      "True\n",
      "False\n"
     ]
    }
   ],
   "source": [
    "# Logical operater\n",
    "# And\n",
    "print(False and False)\n",
    "print(False and True)\n",
    "print(True and True)\n",
    "print(True and False)"
   ]
  },
  {
   "cell_type": "code",
   "execution_count": 7,
   "metadata": {},
   "outputs": [
    {
     "name": "stdout",
     "output_type": "stream",
     "text": [
      "False\n",
      "True\n",
      "True\n",
      "True\n"
     ]
    }
   ],
   "source": [
    "# Or\n",
    "print(False or False)\n",
    "print(False or True)\n",
    "print(True or True)\n",
    "print(True or False)"
   ]
  },
  {
   "cell_type": "code",
   "execution_count": 8,
   "metadata": {},
   "outputs": [
    {
     "name": "stdout",
     "output_type": "stream",
     "text": [
      "True\n",
      "True\n",
      "False\n",
      "True\n"
     ]
    }
   ],
   "source": [
    "# not\n",
    "print(not(False and False))\n",
    "print(not(False and True))\n",
    "print(not(True and True))\n",
    "print(not(True and False))"
   ]
  },
  {
   "cell_type": "code",
   "execution_count": 9,
   "metadata": {},
   "outputs": [
    {
     "name": "stdout",
     "output_type": "stream",
     "text": [
      "True\n",
      "False\n",
      "False\n",
      "False\n"
     ]
    }
   ],
   "source": [
    "# not\n",
    "print(not(False or False))\n",
    "print(not(False or True))\n",
    "print(not(True or True))\n",
    "print(not(True or False))"
   ]
  },
  {
   "cell_type": "code",
   "execution_count": 11,
   "metadata": {},
   "outputs": [
    {
     "name": "stdout",
     "output_type": "stream",
     "text": [
      "False\n",
      "False\n",
      "False\n",
      "True\n"
     ]
    }
   ],
   "source": [
    "print(10>5 and 20<6)\n",
    "print(5==5 and 5!=5)\n",
    "print(50>55 and 45<100)\n",
    "print(5==5 or 5!=5)"
   ]
  },
  {
   "cell_type": "code",
   "execution_count": 12,
   "metadata": {},
   "outputs": [
    {
     "name": "stdout",
     "output_type": "stream",
     "text": [
      "True\n",
      "True\n",
      "True\n",
      "False\n"
     ]
    }
   ],
   "source": [
    "print(10>5 or 20<6)\n",
    "print(5==5 or 5!=5)\n",
    "print(50>55 or 45<100)\n",
    "print(5==5 and 5!=5)"
   ]
  },
  {
   "cell_type": "code",
   "execution_count": 14,
   "metadata": {},
   "outputs": [
    {
     "data": {
      "text/plain": [
       "'0b1100100'"
      ]
     },
     "execution_count": 14,
     "metadata": {},
     "output_type": "execute_result"
    }
   ],
   "source": [
    "bin(100)"
   ]
  },
  {
   "cell_type": "code",
   "execution_count": 15,
   "metadata": {},
   "outputs": [
    {
     "data": {
      "text/plain": [
       "'0b10011100010000'"
      ]
     },
     "execution_count": 15,
     "metadata": {},
     "output_type": "execute_result"
    }
   ],
   "source": [
    "bin(10000)"
   ]
  },
  {
   "cell_type": "code",
   "execution_count": 18,
   "metadata": {},
   "outputs": [
    {
     "name": "stdout",
     "output_type": "stream",
     "text": [
      "15\n",
      "1\n"
     ]
    }
   ],
   "source": [
    "# Bit wise Operators\n",
    "2&2\n",
    "bin(2)\n",
    "print(10|5)\n",
    "print(5^4)"
   ]
  },
  {
   "cell_type": "code",
   "execution_count": 21,
   "metadata": {},
   "outputs": [
    {
     "data": {
      "text/plain": [
       "93"
      ]
     },
     "execution_count": 21,
     "metadata": {},
     "output_type": "execute_result"
    }
   ],
   "source": [
    "int(\"10110\",3)\n"
   ]
  },
  {
   "cell_type": "code",
   "execution_count": 22,
   "metadata": {},
   "outputs": [
    {
     "data": {
      "text/plain": [
       "'8'"
      ]
     },
     "execution_count": 22,
     "metadata": {},
     "output_type": "execute_result"
    }
   ],
   "source": [
    "ord('a')\n",
    "chr(56)"
   ]
  },
  {
   "cell_type": "code",
   "execution_count": 23,
   "metadata": {},
   "outputs": [
    {
     "name": "stdout",
     "output_type": "stream",
     "text": [
      "False\n",
      "True\n"
     ]
    }
   ],
   "source": [
    "#Identity operator\n",
    "x=100\n",
    "y=1000\n",
    "print(x is y)\n",
    "print(x is  not y)"
   ]
  },
  {
   "cell_type": "code",
   "execution_count": 24,
   "metadata": {},
   "outputs": [
    {
     "name": "stdout",
     "output_type": "stream",
     "text": [
      "16\n",
      "16\n",
      "16\n"
     ]
    }
   ],
   "source": [
    "a=b=c=16\n",
    "print(a)\n",
    "print(b)\n",
    "print(c)\n"
   ]
  },
  {
   "cell_type": "code",
   "execution_count": 26,
   "metadata": {},
   "outputs": [
    {
     "name": "stdout",
     "output_type": "stream",
     "text": [
      "1\n",
      "6\n",
      "4\n"
     ]
    }
   ],
   "source": [
    "a,b,c=1,6,4\n",
    "print(a)\n",
    "print(b)\n",
    "print(c)\n"
   ]
  },
  {
   "cell_type": "code",
   "execution_count": 25,
   "metadata": {},
   "outputs": [
    {
     "name": "stdout",
     "output_type": "stream",
     "text": [
      "10\n",
      "100\n",
      "Addition of two numbers is 110\n",
      "Addition of 10 + 100 = 110\n",
      "Addition of 10 + 100 = 110\n",
      "Sub of 10 - 100 = -90\n",
      "Mul of 10 * 100 = 1000\n",
      "Mul of 10 * 100 = 1000\n"
     ]
    }
   ],
   "source": [
    "a=10\n",
    "b=100\n",
    "print(a)\n",
    "print(b)\n",
    "print(\"Addition of two numbers is\",a+b)\n",
    "print('Addition of',a,'+',b,'=',a+b)\n",
    "print('Addition of %d + %d = %d'%(a,b,a+b))\n",
    "print('Sub of %d - %d = %d'%(a,b,a-b))\n",
    "print('Mul of %d * %d = %d'%(a,b,a*b))\n",
    "print('Mul of {0} * {1} = {2}'.format(a,b,a*b))"
   ]
  },
  {
   "cell_type": "code",
   "execution_count": 29,
   "metadata": {},
   "outputs": [
    {
     "name": "stdout",
     "output_type": "stream",
     "text": [
      "enter the x value:-18\n",
      "enter the y value:-34\n",
      "Addition of 52\n"
     ]
    }
   ],
   "source": [
    "# Dynamic Values\n",
    "x=int(input('enter the x value:-'))\n",
    "y=int(input('enter the y value:-'))\n",
    "print('Addition of',x+y)\n",
    "#print('Addition %d + %d = %d '%(x,y,x+y))"
   ]
  },
  {
   "cell_type": "markdown",
   "metadata": {},
   "source": [
    "# Expression\n",
    "1. Take 5 inputs from user\n",
    "2. To perform operation\n",
    "3. store result in variable\n",
    "4. print that final result"
   ]
  },
  {
   "cell_type": "code",
   "execution_count": 35,
   "metadata": {},
   "outputs": [
    {
     "name": "stdout",
     "output_type": "stream",
     "text": [
      "enter the a value:-2\n",
      "enter the b value:-2\n",
      "enter the c value:-2\n",
      "enter the d value:-1\n",
      "enter the e value:-2\n",
      "Final result is 3.0\n"
     ]
    }
   ],
   "source": [
    "a=int(input('enter the a value:-'))\n",
    "b=int(input('enter the b value:-'))\n",
    "c=int(input('enter the c value:-'))\n",
    "d=int(input('enter the d value:-'))\n",
    "e=int(input('enter the e value:-'))\n",
    "x=a+b-c*d/e\n",
    "print('Final result is',x)\n"
   ]
  },
  {
   "cell_type": "markdown",
   "metadata": {},
   "source": [
    " "
   ]
  },
  {
   "cell_type": "code",
   "execution_count": 39,
   "metadata": {},
   "outputs": [
    {
     "name": "stdout",
     "output_type": "stream",
     "text": [
      "Enter the Value256\n",
      "256 is Even Number\n"
     ]
    }
   ],
   "source": [
    "a=int(input('Enter the Value'))\n",
    "if a%2==0:\n",
    "    print(a,'is Even Number')\n",
    "else:\n",
    "    print(a,'is Odd Number')\n",
    "\n",
    "    "
   ]
  },
  {
   "cell_type": "code",
   "execution_count": 42,
   "metadata": {},
   "outputs": [
    {
     "name": "stdout",
     "output_type": "stream",
     "text": [
      "Enter the Value2\n",
      "2 is Even Number\n"
     ]
    }
   ],
   "source": [
    "a=int(input('Enter the Value'))\n",
    "if a%2==1:   # a!=0\n",
    "    print(a,'is Odd Number')\n",
    "else:\n",
    "    print(a,'is Even Number')\n",
    "\n",
    "    "
   ]
  },
  {
   "cell_type": "code",
   "execution_count": 50,
   "metadata": {},
   "outputs": [
    {
     "name": "stdout",
     "output_type": "stream",
     "text": [
      "Enter the value8\n",
      "8 is invalid day\n"
     ]
    }
   ],
   "source": [
    "a=int(input('Enter the value'))\n",
    "if a==0:\n",
    "    print(a,'is Sunday')\n",
    "elif a==1:\n",
    "    print(a,'is Monday')\n",
    "elif a==2:\n",
    "    print(a,'is Tuesday')\n",
    "elif a==3:\n",
    "    print(a,'is wednesday')\n",
    "elif a==4:\n",
    "    print(a,'is Thursday')\n",
    "elif a==5:\n",
    "    print(a,'is Friday')\n",
    "elif a==6:\n",
    "    print(a,'is Saturday')\n",
    "else:\n",
    "    print(a,'is invalid day')"
   ]
  },
  {
   "cell_type": "code",
   "execution_count": 9,
   "metadata": {},
   "outputs": [
    {
     "name": "stdout",
     "output_type": "stream",
     "text": [
      "Welcome current Username\n"
     ]
    }
   ],
   "source": [
    "Username='Nikitha'\n",
    "Password='Nikitha'\n",
    "if Username == Password:\n",
    "    print(\"Welcome current Username\")\n",
    "else:\n",
    "    print(\"invalid Username or password\")\n",
    "    "
   ]
  },
  {
   "cell_type": "code",
   "execution_count": null,
   "metadata": {},
   "outputs": [],
   "source": []
  },
  {
   "cell_type": "code",
   "execution_count": null,
   "metadata": {},
   "outputs": [],
   "source": []
  }
 ],
 "metadata": {
  "kernelspec": {
   "display_name": "Python 3",
   "language": "python",
   "name": "python3"
  },
  "language_info": {
   "codemirror_mode": {
    "name": "ipython",
    "version": 3
   },
   "file_extension": ".py",
   "mimetype": "text/x-python",
   "name": "python",
   "nbconvert_exporter": "python",
   "pygments_lexer": "ipython3",
   "version": "3.8.5"
  }
 },
 "nbformat": 4,
 "nbformat_minor": 4
}
