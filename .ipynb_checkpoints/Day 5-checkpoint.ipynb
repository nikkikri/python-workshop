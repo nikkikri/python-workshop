{
 "cells": [
  {
   "cell_type": "markdown",
   "metadata": {},
   "source": [
    "# Today concepts:\n",
    " - OOPS\n",
    " - Regular Expressions\n",
    " - Files\n",
    " - Matiplotic\n"
   ]
  },
  {
   "cell_type": "markdown",
   "metadata": {},
   "source": [
    "# Object oriented programming\n",
    "# object: instance of class\n",
    "# its having properities(var) and actions(methods) \n",
    "# Class:\n",
    "# collection of variables and methods \n",
    "# syntax:\n",
    "# class ClassName:\n",
    "   # variables\n",
    "   # methods"
   ]
  },
  {
   "cell_type": "code",
   "execution_count": 2,
   "metadata": {},
   "outputs": [],
   "source": [
    "class Student:\n",
    "    pass"
   ]
  },
  {
   "cell_type": "code",
   "execution_count": null,
   "metadata": {},
   "outputs": [],
   "source": [
    "# to create a object:\n",
    "# syntax:\n",
    "# var = classname()\n",
    "s = Student() "
   ]
  },
  {
   "cell_type": "code",
   "execution_count": 10,
   "metadata": {},
   "outputs": [],
   "source": [
    "class student:\n",
    "    x = 12\n",
    "    y = 13\n",
    "   "
   ]
  },
  {
   "cell_type": "code",
   "execution_count": 13,
   "metadata": {
    "scrolled": true
   },
   "outputs": [
    {
     "data": {
      "text/plain": [
       "12"
      ]
     },
     "execution_count": 13,
     "metadata": {},
     "output_type": "execute_result"
    }
   ],
   "source": [
    "student().x\n",
    "student().y\n",
    "s.x"
   ]
  },
  {
   "cell_type": "code",
   "execution_count": 19,
   "metadata": {},
   "outputs": [],
   "source": [
    "class student:\n",
    "    x = 12\n",
    "    y = 13\n",
    "    def Display(self):\n",
    "        name = input('enter name of the student:')\n",
    "        print('hello',name)\n"
   ]
  },
  {
   "cell_type": "code",
   "execution_count": 22,
   "metadata": {},
   "outputs": [
    {
     "name": "stdout",
     "output_type": "stream",
     "text": [
      "enter name of the student:nikitha\n",
      "hello nikitha\n"
     ]
    }
   ],
   "source": [
    "student().x\n",
    "student().y\n",
    "s = student()\n",
    "s.x\n",
    "s.Display()"
   ]
  },
  {
   "cell_type": "code",
   "execution_count": null,
   "metadata": {},
   "outputs": [],
   "source": [
    "# constructor:\n",
    "# syntax:\n",
    "#__init__(self):\n",
    "  # Statements"
   ]
  },
  {
   "cell_type": "code",
   "execution_count": 29,
   "metadata": {},
   "outputs": [],
   "source": [
    "class Cse:\n",
    "    sections = 3\n",
    "    year = 2\n",
    "    def __init__(self):\n",
    "        print('This is constructor')\n",
    "    def Details(self):\n",
    "        print('hello {} year having {} sections'.format(Cse.year,Cse.sections))"
   ]
  },
  {
   "cell_type": "code",
   "execution_count": 30,
   "metadata": {},
   "outputs": [
    {
     "name": "stdout",
     "output_type": "stream",
     "text": [
      "This is constructor\n",
      "hello 2 year having 3 sections\n"
     ]
    }
   ],
   "source": [
    "c = Cse()\n",
    "c.Details()"
   ]
  },
  {
   "cell_type": "code",
   "execution_count": 40,
   "metadata": {},
   "outputs": [],
   "source": [
    "class Cse:\n",
    "    sections = 3\n",
    "    year = 2\n",
    "    def __init__(self,section,year):\n",
    "        print('This is constructor')\n",
    "        self.section=section\n",
    "        self.year=year\n",
    "    def Details(self):\n",
    "        print('hello {} year having {} sections'.format(Cse.year,Cse.sections))"
   ]
  },
  {
   "cell_type": "code",
   "execution_count": 42,
   "metadata": {},
   "outputs": [
    {
     "name": "stdout",
     "output_type": "stream",
     "text": [
      "This is constructor\n",
      "hello 2 year having 3 sections\n"
     ]
    }
   ],
   "source": [
    "c = Cse(3,2)\n",
    "c.Details()"
   ]
  },
  {
   "cell_type": "code",
   "execution_count": null,
   "metadata": {},
   "outputs": [],
   "source": [
    "### Inheritance:\n",
    "# getting the properties from parent class to child class\n",
    "# Has - A relation"
   ]
  },
  {
   "cell_type": "code",
   "execution_count": 50,
   "metadata": {},
   "outputs": [],
   "source": [
    "class Parent:\n",
    "    x = 10\n",
    "    y = 20\n",
    "    def M1(self):\n",
    "        print('Parent method..')\n",
    "class Child:\n",
    "    z = 25\n",
    "    def __init__(self):\n",
    "        self.parent = Parent()\n",
    "    def M2(self):\n",
    "        print(self.parent.x)\n",
    "        print(self.parent.y)\n",
    "        print(Child().z)\n",
    "        print(self.parent.M1())"
   ]
  },
  {
   "cell_type": "code",
   "execution_count": 51,
   "metadata": {},
   "outputs": [
    {
     "name": "stdout",
     "output_type": "stream",
     "text": [
      "10\n",
      "20\n",
      "25\n",
      "Parent method..\n",
      "None\n"
     ]
    }
   ],
   "source": [
    "c = Child()\n",
    "c.M2()"
   ]
  },
  {
   "cell_type": "code",
   "execution_count": 52,
   "metadata": {},
   "outputs": [
    {
     "name": "stdout",
     "output_type": "stream",
     "text": [
      "class A Method\n"
     ]
    }
   ],
   "source": [
    "class A:\n",
    "    x = 20\n",
    "    y = 23\n",
    "    def m1(self):\n",
    "        print('class A Method')\n",
    "class B(A):\n",
    "    z = 12\n",
    "    def m2(self):\n",
    "        print('class B Method..')\n",
    "obj = B()\n",
    "obj.m1()"
   ]
  },
  {
   "cell_type": "code",
   "execution_count": 6,
   "metadata": {},
   "outputs": [],
   "source": [
    "# Multi level inheritance\n",
    "class Parent:\n",
    "    name = 'Jameela'\n",
    "    company = 'PACE'\n",
    "    def m1(self):\n",
    "        print('Hello',Parent.name,'welcome to',Parent.company)\n",
    "class Child(Parent):\n",
    "    name1 = 'chandu'\n",
    "    def m2(self):\n",
    "        print('Hello',Child.name1,'welcome to',Child.company)\n",
    "class SubChild(Child):\n",
    "    name2 = 'nikki'\n",
    "    company = 'PACE'\n",
    "    def mm(self):\n",
    "        print('Hello',SubChild.name1,'welcome to',SubChild.company)"
   ]
  },
  {
   "cell_type": "code",
   "execution_count": 7,
   "metadata": {},
   "outputs": [
    {
     "name": "stdout",
     "output_type": "stream",
     "text": [
      "Hello Jameela welcome to PACE\n",
      "Hello chandu welcome to PACE\n",
      "Hello chandu welcome to PACE\n"
     ]
    }
   ],
   "source": [
    "obj = SubChild()\n",
    "obj.m1()\n",
    "obj.m2()\n",
    "obj.mm()"
   ]
  },
  {
   "cell_type": "markdown",
   "metadata": {},
   "source": [
    "# Regular Expressions\n",
    "\n",
    "- Regular Expressions are using patterns\n",
    "- by using regular expressions in python we can Module i.e Import **re**\n",
    "- Regular Expression Syntax ---> modulename.methodname(pattern,values or variablenames)\n",
    "# Methods\n",
    "\n",
    "- search\n",
    "- match\n",
    "- find all\n",
    "- patterns"
   ]
  },
  {
   "cell_type": "markdown",
   "metadata": {},
   "source": [
    "- ^\n",
    "- $\n",
    "- *\n",
    "- .\n",
    "- \\d\n",
    "- \\D\n",
    "- \\s\n",
    "- \\S\n",
    "- \\w\n",
    "- \\W\n",
    "- (a-z,A-Z)\n",
    "- (0-9)"
   ]
  },
  {
   "cell_type": "markdown",
   "metadata": {},
   "source": [
    "- ^Matches the beginning of a line\n",
    "\n",
    "- $Matches the end of a line\n",
    "\n",
    "- .Matches any character\n",
    "\n",
    "- \\sMatches whitespace\n",
    "\n",
    "- \\SMatches any non-whitespace character\n",
    "\n",
    "- *Repeats a character zero or more times\n",
    "\n",
    "- *?Repeats a character zero or more times(non-greed)\n",
    "\n",
    "- +Repeats a character one or more times\n",
    "\n",
    "- +?Repeats a character one or more times(non-greed)\n",
    "\n",
    "- [aeiou]Matches a single character in the listed set\n",
    "\n",
    "- [^xyz]Matches a single character not in the listed set\n",
    "\n",
    "- [a-z0-9]The set of characters can include a range\n",
    "\n",
    "- (Indicates where string extraction is to start\n",
    "\n",
    "- )Indicates where string extraction is to end"
   ]
  },
  {
   "cell_type": "code",
   "execution_count": 13,
   "metadata": {},
   "outputs": [
    {
     "data": {
      "text/plain": [
       "<re.Match object; span=(0, 1), match='p'>"
      ]
     },
     "execution_count": 13,
     "metadata": {},
     "output_type": "execute_result"
    }
   ],
   "source": [
    "import re\n",
    "re.search('^p','python workshop')"
   ]
  },
  {
   "cell_type": "code",
   "execution_count": 15,
   "metadata": {},
   "outputs": [
    {
     "data": {
      "text/plain": [
       "<re.Match object; span=(14, 15), match='p'>"
      ]
     },
     "execution_count": 15,
     "metadata": {},
     "output_type": "execute_result"
    }
   ],
   "source": [
    "import re\n",
    "re.search('p$','python workshop')"
   ]
  },
  {
   "cell_type": "code",
   "execution_count": 16,
   "metadata": {},
   "outputs": [
    {
     "data": {
      "text/plain": [
       "<re.Match object; span=(0, 2), match='py'>"
      ]
     },
     "execution_count": 16,
     "metadata": {},
     "output_type": "execute_result"
    }
   ],
   "source": [
    "import re\n",
    "re.search('p.','python workshop')"
   ]
  },
  {
   "cell_type": "code",
   "execution_count": 24,
   "metadata": {},
   "outputs": [
    {
     "data": {
      "text/plain": [
       "<re.Match object; span=(0, 1), match='p'>"
      ]
     },
     "execution_count": 24,
     "metadata": {},
     "output_type": "execute_result"
    }
   ],
   "source": [
    "import re\n",
    "re.search('p*','python workshop')"
   ]
  },
  {
   "cell_type": "code",
   "execution_count": 25,
   "metadata": {},
   "outputs": [],
   "source": [
    "import re\n",
    "re.search('--','pythonworkshop')"
   ]
  },
  {
   "cell_type": "code",
   "execution_count": 26,
   "metadata": {},
   "outputs": [
    {
     "data": {
      "text/plain": [
       "[' ', ' ', ' ']"
      ]
     },
     "execution_count": 26,
     "metadata": {},
     "output_type": "execute_result"
    }
   ],
   "source": [
    "x ='welcome to python workshop'\n",
    "re.findall('\\s',x)"
   ]
  },
  {
   "cell_type": "code",
   "execution_count": 28,
   "metadata": {},
   "outputs": [
    {
     "data": {
      "text/plain": [
       "['w',\n",
       " 'e',\n",
       " 'l',\n",
       " 'c',\n",
       " 'o',\n",
       " 'm',\n",
       " 'e',\n",
       " '@',\n",
       " 't',\n",
       " 'o',\n",
       " 'p',\n",
       " 'y',\n",
       " 't',\n",
       " 'h',\n",
       " 'o',\n",
       " 'n',\n",
       " '&',\n",
       " 'w',\n",
       " 'o',\n",
       " 'r',\n",
       " 'k',\n",
       " 's',\n",
       " 'h',\n",
       " 'o',\n",
       " 'p']"
      ]
     },
     "execution_count": 28,
     "metadata": {},
     "output_type": "execute_result"
    }
   ],
   "source": [
    "x ='welcome@ to python& workshop'\n",
    "re.findall('\\S',x)\n",
    "re.findall('\\S',x)"
   ]
  },
  {
   "cell_type": "code",
   "execution_count": 32,
   "metadata": {},
   "outputs": [
    {
     "data": {
      "text/plain": [
       "['j',\n",
       " 'a',\n",
       " 'm',\n",
       " 'e',\n",
       " 'e',\n",
       " 'l',\n",
       " 'a',\n",
       " '1',\n",
       " '2',\n",
       " '3',\n",
       " '_',\n",
       " 'p',\n",
       " 'g',\n",
       " 'm',\n",
       " 'a',\n",
       " 'i',\n",
       " 'l',\n",
       " 'c',\n",
       " 'o',\n",
       " 'm']"
      ]
     },
     "execution_count": 32,
     "metadata": {},
     "output_type": "execute_result"
    }
   ],
   "source": [
    "re.search('\\W','jameela123_p@gmail.com')\n",
    "re.findall('\\W','jameela123_p@gmail.com')\n",
    "re.findall('\\w','jameela123_p@gmail.com')\n"
   ]
  },
  {
   "cell_type": "markdown",
   "metadata": {},
   "source": [
    "# Mobile patterns"
   ]
  },
  {
   "cell_type": "code",
   "execution_count": null,
   "metadata": {},
   "outputs": [],
   "source": [
    " #Mobile number\n",
    "re.search('^[6-9][0-9]{9}[0][6-9][0-9]{10}|[+][9][1][6-9][0-9]{9}$',8466039394)"
   ]
  },
  {
   "cell_type": "code",
   "execution_count": null,
   "metadata": {},
   "outputs": [],
   "source": []
  },
  {
   "cell_type": "code",
   "execution_count": null,
   "metadata": {},
   "outputs": [],
   "source": []
  },
  {
   "cell_type": "code",
   "execution_count": null,
   "metadata": {},
   "outputs": [],
   "source": []
  },
  {
   "cell_type": "code",
   "execution_count": null,
   "metadata": {},
   "outputs": [],
   "source": []
  }
 ],
 "metadata": {
  "kernelspec": {
   "display_name": "Python 3",
   "language": "python",
   "name": "python3"
  },
  "language_info": {
   "codemirror_mode": {
    "name": "ipython",
    "version": 3
   },
   "file_extension": ".py",
   "mimetype": "text/x-python",
   "name": "python",
   "nbconvert_exporter": "python",
   "pygments_lexer": "ipython3",
   "version": "3.8.5"
  }
 },
 "nbformat": 4,
 "nbformat_minor": 4
}
